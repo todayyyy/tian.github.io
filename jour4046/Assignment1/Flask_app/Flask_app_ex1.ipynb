{
 "cells": [
  {
   "cell_type": "code",
   "execution_count": null,
   "metadata": {},
   "outputs": [],
   "source": [
    "import os\n",
    "from werkzeug.wsgi import SharedDataMiddleware\n",
    "from flask import Flask, render_template\n",
    "app = Flask(__name__)\n",
    "# The following line is only needed for running insdie Jupyter Notebook\n",
    "root_path = os.path.sep.join(app.instance_path.split(os.path.sep)[:-1])\n",
    "@app.route(\"/\")\n",
    "def home():\n",
    "    return render_template('myhome.html')\n",
    "@app.route(\"/aboutus\")\n",
    "def aboutus():\n",
    "    return render_template('aboutus.html')\n",
    "if __name__ == '__main__':\n",
    "    from werkzeug.serving import run_simple\n",
    "    app.wsgi_app = SharedDataMiddleware(app.wsgi_app, {\n",
    "        '/static': root_path+'/flask_apps/static',\n",
    "        '/templates': root_path+'/flask_apps/templates'\n",
    "    })\n",
    "    run_simple('localhost', 9003, app)"
   ]
  },
  {
   "cell_type": "code",
   "execution_count": null,
   "metadata": {},
   "outputs": [],
   "source": []
  },
  {
   "cell_type": "code",
   "execution_count": null,
   "metadata": {},
   "outputs": [],
   "source": []
  },
  {
   "cell_type": "code",
   "execution_count": null,
   "metadata": {},
   "outputs": [],
   "source": []
  }
 ],
 "metadata": {
  "kernelspec": {
   "display_name": "Python 3",
   "language": "python",
   "name": "python3"
  },
  "language_info": {
   "codemirror_mode": {
    "name": "ipython",
    "version": 3
   },
   "file_extension": ".py",
   "mimetype": "text/x-python",
   "name": "python",
   "nbconvert_exporter": "python",
   "pygments_lexer": "ipython3",
   "version": "3.7.3"
  }
 },
 "nbformat": 4,
 "nbformat_minor": 2
}
